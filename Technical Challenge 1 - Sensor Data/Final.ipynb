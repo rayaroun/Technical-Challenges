{
 "cells": [
  {
   "cell_type": "code",
   "execution_count": 1,
   "id": "ebc14c60",
   "metadata": {},
   "outputs": [],
   "source": [
    "import pandas as pd # data processing, CSV file I/O (e.g. pd.read_csv)"
   ]
  },
  {
   "cell_type": "code",
   "execution_count": 2,
   "id": "213c707c",
   "metadata": {},
   "outputs": [],
   "source": [
    "df = pd.read_csv('temperatures_nov2019_modified.csv',index_col = 'id')"
   ]
  },
  {
   "cell_type": "code",
   "execution_count": 3,
   "id": "70ecdd3d",
   "metadata": {
    "scrolled": true
   },
   "outputs": [
    {
     "data": {
      "text/html": [
       "<div>\n",
       "<style scoped>\n",
       "    .dataframe tbody tr th:only-of-type {\n",
       "        vertical-align: middle;\n",
       "    }\n",
       "\n",
       "    .dataframe tbody tr th {\n",
       "        vertical-align: top;\n",
       "    }\n",
       "\n",
       "    .dataframe thead th {\n",
       "        text-align: right;\n",
       "    }\n",
       "</style>\n",
       "<table border=\"1\" class=\"dataframe\">\n",
       "  <thead>\n",
       "    <tr style=\"text-align: right;\">\n",
       "      <th></th>\n",
       "      <th>date_time</th>\n",
       "      <th>device_id</th>\n",
       "      <th>latlng</th>\n",
       "      <th>temperature</th>\n",
       "    </tr>\n",
       "    <tr>\n",
       "      <th>id</th>\n",
       "      <th></th>\n",
       "      <th></th>\n",
       "      <th></th>\n",
       "      <th></th>\n",
       "    </tr>\n",
       "  </thead>\n",
       "  <tbody>\n",
       "    <tr>\n",
       "      <th>0</th>\n",
       "      <td>2019-04-01 07:00:00+00:00</td>\n",
       "      <td>840</td>\n",
       "      <td>37.1840165#-119.3815455</td>\n",
       "      <td>12.1422</td>\n",
       "    </tr>\n",
       "    <tr>\n",
       "      <th>1</th>\n",
       "      <td>2019-04-01 07:10:00+00:00</td>\n",
       "      <td>840</td>\n",
       "      <td>37.1840165#-119.3815455</td>\n",
       "      <td>11.9269</td>\n",
       "    </tr>\n",
       "    <tr>\n",
       "      <th>2</th>\n",
       "      <td>2019-04-01 07:20:00+00:00</td>\n",
       "      <td>840</td>\n",
       "      <td>37.1840165#-119.3815455</td>\n",
       "      <td>11.4825</td>\n",
       "    </tr>\n",
       "    <tr>\n",
       "      <th>3</th>\n",
       "      <td>2019-04-01 07:30:00+00:00</td>\n",
       "      <td>840</td>\n",
       "      <td>37.1840165#-119.3815455</td>\n",
       "      <td>11.6977</td>\n",
       "    </tr>\n",
       "    <tr>\n",
       "      <th>4</th>\n",
       "      <td>2019-04-01 07:40:00+00:00</td>\n",
       "      <td>840</td>\n",
       "      <td>37.1840165#-119.3815455</td>\n",
       "      <td>11.9755</td>\n",
       "    </tr>\n",
       "  </tbody>\n",
       "</table>\n",
       "</div>"
      ],
      "text/plain": [
       "                    date_time  device_id                   latlng  temperature\n",
       "id                                                                            \n",
       "0   2019-04-01 07:00:00+00:00        840  37.1840165#-119.3815455      12.1422\n",
       "1   2019-04-01 07:10:00+00:00        840  37.1840165#-119.3815455      11.9269\n",
       "2   2019-04-01 07:20:00+00:00        840  37.1840165#-119.3815455      11.4825\n",
       "3   2019-04-01 07:30:00+00:00        840  37.1840165#-119.3815455      11.6977\n",
       "4   2019-04-01 07:40:00+00:00        840  37.1840165#-119.3815455      11.9755"
      ]
     },
     "execution_count": 3,
     "metadata": {},
     "output_type": "execute_result"
    }
   ],
   "source": [
    "df.head()"
   ]
  },
  {
   "cell_type": "code",
   "execution_count": 4,
   "id": "2619042a",
   "metadata": {
    "scrolled": true
   },
   "outputs": [
    {
     "name": "stdout",
     "output_type": "stream",
     "text": [
      "<class 'pandas.core.frame.DataFrame'>\n",
      "Int64Index: 792470 entries, 0 to 792469\n",
      "Data columns (total 4 columns):\n",
      " #   Column       Non-Null Count   Dtype  \n",
      "---  ------       --------------   -----  \n",
      " 0   date_time    792470 non-null  object \n",
      " 1   device_id    792470 non-null  int64  \n",
      " 2   latlng       792470 non-null  object \n",
      " 3   temperature  744950 non-null  float64\n",
      "dtypes: float64(1), int64(1), object(2)\n",
      "memory usage: 30.2+ MB\n"
     ]
    }
   ],
   "source": [
    "df.info()"
   ]
  },
  {
   "cell_type": "code",
   "execution_count": 5,
   "id": "b46a8459",
   "metadata": {},
   "outputs": [],
   "source": [
    "df['DateTime'] = pd.to_datetime(df['date_time'])"
   ]
  },
  {
   "cell_type": "code",
   "execution_count": 6,
   "id": "2c5c7bde",
   "metadata": {},
   "outputs": [],
   "source": [
    "df.drop('date_time', axis=1, inplace=True)"
   ]
  },
  {
   "cell_type": "code",
   "execution_count": 7,
   "id": "cc509f05",
   "metadata": {
    "scrolled": true
   },
   "outputs": [
    {
     "data": {
      "text/html": [
       "<div>\n",
       "<style scoped>\n",
       "    .dataframe tbody tr th:only-of-type {\n",
       "        vertical-align: middle;\n",
       "    }\n",
       "\n",
       "    .dataframe tbody tr th {\n",
       "        vertical-align: top;\n",
       "    }\n",
       "\n",
       "    .dataframe thead th {\n",
       "        text-align: right;\n",
       "    }\n",
       "</style>\n",
       "<table border=\"1\" class=\"dataframe\">\n",
       "  <thead>\n",
       "    <tr style=\"text-align: right;\">\n",
       "      <th></th>\n",
       "      <th>device_id</th>\n",
       "      <th>latlng</th>\n",
       "      <th>temperature</th>\n",
       "      <th>DateTime</th>\n",
       "    </tr>\n",
       "    <tr>\n",
       "      <th>id</th>\n",
       "      <th></th>\n",
       "      <th></th>\n",
       "      <th></th>\n",
       "      <th></th>\n",
       "    </tr>\n",
       "  </thead>\n",
       "  <tbody>\n",
       "    <tr>\n",
       "      <th>0</th>\n",
       "      <td>840</td>\n",
       "      <td>37.1840165#-119.3815455</td>\n",
       "      <td>12.1422</td>\n",
       "      <td>2019-04-01 07:00:00+00:00</td>\n",
       "    </tr>\n",
       "    <tr>\n",
       "      <th>1</th>\n",
       "      <td>840</td>\n",
       "      <td>37.1840165#-119.3815455</td>\n",
       "      <td>11.9269</td>\n",
       "      <td>2019-04-01 07:10:00+00:00</td>\n",
       "    </tr>\n",
       "    <tr>\n",
       "      <th>2</th>\n",
       "      <td>840</td>\n",
       "      <td>37.1840165#-119.3815455</td>\n",
       "      <td>11.4825</td>\n",
       "      <td>2019-04-01 07:20:00+00:00</td>\n",
       "    </tr>\n",
       "    <tr>\n",
       "      <th>3</th>\n",
       "      <td>840</td>\n",
       "      <td>37.1840165#-119.3815455</td>\n",
       "      <td>11.6977</td>\n",
       "      <td>2019-04-01 07:30:00+00:00</td>\n",
       "    </tr>\n",
       "    <tr>\n",
       "      <th>4</th>\n",
       "      <td>840</td>\n",
       "      <td>37.1840165#-119.3815455</td>\n",
       "      <td>11.9755</td>\n",
       "      <td>2019-04-01 07:40:00+00:00</td>\n",
       "    </tr>\n",
       "  </tbody>\n",
       "</table>\n",
       "</div>"
      ],
      "text/plain": [
       "    device_id                   latlng  temperature                  DateTime\n",
       "id                                                                           \n",
       "0         840  37.1840165#-119.3815455      12.1422 2019-04-01 07:00:00+00:00\n",
       "1         840  37.1840165#-119.3815455      11.9269 2019-04-01 07:10:00+00:00\n",
       "2         840  37.1840165#-119.3815455      11.4825 2019-04-01 07:20:00+00:00\n",
       "3         840  37.1840165#-119.3815455      11.6977 2019-04-01 07:30:00+00:00\n",
       "4         840  37.1840165#-119.3815455      11.9755 2019-04-01 07:40:00+00:00"
      ]
     },
     "execution_count": 7,
     "metadata": {},
     "output_type": "execute_result"
    }
   ],
   "source": [
    "df.head()"
   ]
  },
  {
   "cell_type": "code",
   "execution_count": 8,
   "id": "98879b24",
   "metadata": {},
   "outputs": [],
   "source": [
    "df[['lat', 'long']] = df['latlng'].str.split('#', 1, expand=True)"
   ]
  },
  {
   "cell_type": "code",
   "execution_count": 9,
   "id": "de0e88d9",
   "metadata": {},
   "outputs": [],
   "source": [
    "df['lat'] = pd.to_numeric(df.lat)\n",
    "df['long'] = pd.to_numeric(df.long)"
   ]
  },
  {
   "cell_type": "code",
   "execution_count": 10,
   "id": "54288a74",
   "metadata": {},
   "outputs": [],
   "source": [
    "df.drop('latlng', axis=1, inplace=True)"
   ]
  },
  {
   "cell_type": "code",
   "execution_count": 11,
   "id": "1668c75d",
   "metadata": {
    "scrolled": false
   },
   "outputs": [
    {
     "data": {
      "text/html": [
       "<div>\n",
       "<style scoped>\n",
       "    .dataframe tbody tr th:only-of-type {\n",
       "        vertical-align: middle;\n",
       "    }\n",
       "\n",
       "    .dataframe tbody tr th {\n",
       "        vertical-align: top;\n",
       "    }\n",
       "\n",
       "    .dataframe thead th {\n",
       "        text-align: right;\n",
       "    }\n",
       "</style>\n",
       "<table border=\"1\" class=\"dataframe\">\n",
       "  <thead>\n",
       "    <tr style=\"text-align: right;\">\n",
       "      <th></th>\n",
       "      <th>device_id</th>\n",
       "      <th>temperature</th>\n",
       "      <th>DateTime</th>\n",
       "      <th>lat</th>\n",
       "      <th>long</th>\n",
       "    </tr>\n",
       "    <tr>\n",
       "      <th>id</th>\n",
       "      <th></th>\n",
       "      <th></th>\n",
       "      <th></th>\n",
       "      <th></th>\n",
       "      <th></th>\n",
       "    </tr>\n",
       "  </thead>\n",
       "  <tbody>\n",
       "    <tr>\n",
       "      <th>0</th>\n",
       "      <td>840</td>\n",
       "      <td>12.1422</td>\n",
       "      <td>2019-04-01 07:00:00+00:00</td>\n",
       "      <td>37.184016</td>\n",
       "      <td>-119.381546</td>\n",
       "    </tr>\n",
       "    <tr>\n",
       "      <th>1</th>\n",
       "      <td>840</td>\n",
       "      <td>11.9269</td>\n",
       "      <td>2019-04-01 07:10:00+00:00</td>\n",
       "      <td>37.184016</td>\n",
       "      <td>-119.381546</td>\n",
       "    </tr>\n",
       "    <tr>\n",
       "      <th>2</th>\n",
       "      <td>840</td>\n",
       "      <td>11.4825</td>\n",
       "      <td>2019-04-01 07:20:00+00:00</td>\n",
       "      <td>37.184016</td>\n",
       "      <td>-119.381546</td>\n",
       "    </tr>\n",
       "    <tr>\n",
       "      <th>3</th>\n",
       "      <td>840</td>\n",
       "      <td>11.6977</td>\n",
       "      <td>2019-04-01 07:30:00+00:00</td>\n",
       "      <td>37.184016</td>\n",
       "      <td>-119.381546</td>\n",
       "    </tr>\n",
       "    <tr>\n",
       "      <th>4</th>\n",
       "      <td>840</td>\n",
       "      <td>11.9755</td>\n",
       "      <td>2019-04-01 07:40:00+00:00</td>\n",
       "      <td>37.184016</td>\n",
       "      <td>-119.381546</td>\n",
       "    </tr>\n",
       "  </tbody>\n",
       "</table>\n",
       "</div>"
      ],
      "text/plain": [
       "    device_id  temperature                  DateTime        lat        long\n",
       "id                                                                         \n",
       "0         840      12.1422 2019-04-01 07:00:00+00:00  37.184016 -119.381546\n",
       "1         840      11.9269 2019-04-01 07:10:00+00:00  37.184016 -119.381546\n",
       "2         840      11.4825 2019-04-01 07:20:00+00:00  37.184016 -119.381546\n",
       "3         840      11.6977 2019-04-01 07:30:00+00:00  37.184016 -119.381546\n",
       "4         840      11.9755 2019-04-01 07:40:00+00:00  37.184016 -119.381546"
      ]
     },
     "execution_count": 11,
     "metadata": {},
     "output_type": "execute_result"
    }
   ],
   "source": [
    "df.head()"
   ]
  },
  {
   "cell_type": "markdown",
   "id": "c469a132",
   "metadata": {},
   "source": [
    "# Q1 asks - What is the averatge latitude and longitude of all the devices. "
   ]
  },
  {
   "cell_type": "code",
   "execution_count": 12,
   "id": "94cd569f",
   "metadata": {},
   "outputs": [],
   "source": [
    "df_latlong_mean = df.agg({'lat': 'mean', 'long': 'mean'})"
   ]
  },
  {
   "cell_type": "code",
   "execution_count": 13,
   "id": "6f2f6469",
   "metadata": {
    "scrolled": true
   },
   "outputs": [
    {
     "data": {
      "text/plain": [
       "lat      42.968895\n",
       "long   -119.292220\n",
       "dtype: float64"
      ]
     },
     "execution_count": 13,
     "metadata": {},
     "output_type": "execute_result"
    }
   ],
   "source": [
    "df_latlong_mean.head()"
   ]
  },
  {
   "cell_type": "markdown",
   "id": "3efdaf27",
   "metadata": {},
   "source": [
    "# Q2 asks what time of the day is the hottest and coolest\n",
    "\n",
    "\n",
    "### I'm getting values for each device since that makes more sense to get rather than just get the maximum and minimum temperature values.\n",
    "\n",
    "### But first it'd be good to check if there are any outlier values or values that may look like outliers \n"
   ]
  },
  {
   "cell_type": "code",
   "execution_count": 15,
   "id": "e819e517",
   "metadata": {
    "scrolled": true
   },
   "outputs": [
    {
     "data": {
      "text/plain": [
       "1000.0"
      ]
     },
     "execution_count": 15,
     "metadata": {},
     "output_type": "execute_result"
    }
   ],
   "source": [
    "df['temperature'].max()"
   ]
  },
  {
   "cell_type": "code",
   "execution_count": 47,
   "id": "4be924ce",
   "metadata": {},
   "outputs": [
    {
     "data": {
      "text/plain": [
       "-887.0"
      ]
     },
     "execution_count": 47,
     "metadata": {},
     "output_type": "execute_result"
    }
   ],
   "source": [
    "df['temperature'].min()"
   ]
  },
  {
   "cell_type": "code",
   "execution_count": 46,
   "id": "6d727428",
   "metadata": {
    "scrolled": true
   },
   "outputs": [
    {
     "data": {
      "text/plain": [
       "id\n",
       "681566   -887.0\n",
       "694493   -592.0\n",
       "634572   -322.0\n",
       "471799   -272.0\n",
       "574467   -223.0\n",
       "645090     -1.1\n",
       "713658     -1.1\n",
       "645091     -1.1\n",
       "713657     -1.1\n",
       "713656     -1.0\n",
       "Name: temperature, dtype: float64"
      ]
     },
     "execution_count": 46,
     "metadata": {},
     "output_type": "execute_result"
    }
   ],
   "source": [
    "df['temperature'].sort_values().head(10)"
   ]
  },
  {
   "cell_type": "code",
   "execution_count": 17,
   "id": "a31ea7a8",
   "metadata": {},
   "outputs": [
    {
     "data": {
      "text/plain": [
       "21.04856421522281"
      ]
     },
     "execution_count": 17,
     "metadata": {},
     "output_type": "execute_result"
    }
   ],
   "source": [
    "df['temperature'].mean()"
   ]
  },
  {
   "cell_type": "markdown",
   "id": "b075d684",
   "metadata": {},
   "source": [
    "### Since the values seem abnormally different from the mean, I'll remove these"
   ]
  },
  {
   "cell_type": "code",
   "execution_count": 82,
   "id": "b8fdd9ee",
   "metadata": {},
   "outputs": [],
   "source": [
    "# q_low = df[\"temperature\"].quantile(0.00003)\n",
    "q_hi  = df[\"temperature\"].quantile(0.99)\n",
    "\n",
    "df_new = df[(df[\"temperature\"] < q_hi) & (df[\"temperature\"] > -223.0000)]\n"
   ]
  },
  {
   "cell_type": "code",
   "execution_count": 83,
   "id": "a1dde7ad",
   "metadata": {},
   "outputs": [
    {
     "data": {
      "text/plain": [
       "50.0"
      ]
     },
     "execution_count": 83,
     "metadata": {},
     "output_type": "execute_result"
    }
   ],
   "source": [
    "df_new['temperature'].max()"
   ]
  },
  {
   "cell_type": "code",
   "execution_count": 84,
   "id": "4efd3c48",
   "metadata": {
    "scrolled": true
   },
   "outputs": [
    {
     "data": {
      "text/plain": [
       "-1.1"
      ]
     },
     "execution_count": 84,
     "metadata": {},
     "output_type": "execute_result"
    }
   ],
   "source": [
    "df_new['temperature'].min()"
   ]
  },
  {
   "cell_type": "code",
   "execution_count": 85,
   "id": "b8ebf631",
   "metadata": {},
   "outputs": [],
   "source": [
    "dfv1 = df_new[['device_id','DateTime','temperature']]"
   ]
  },
  {
   "cell_type": "code",
   "execution_count": 86,
   "id": "06536bf9",
   "metadata": {},
   "outputs": [],
   "source": [
    "grouped = dfv1.groupby(['device_id'])\n",
    "\n",
    "min_temp_final = grouped.min()\n",
    "\n",
    "min_temp_final.to_csv('min_for_each_device.csv', index=True )"
   ]
  },
  {
   "cell_type": "code",
   "execution_count": null,
   "id": "5bdea811",
   "metadata": {},
   "outputs": [],
   "source": [
    "\n",
    "# min_temp_final_version.to_csv('min_for_each_device.csv', index=True )"
   ]
  },
  {
   "cell_type": "markdown",
   "id": "c5f035fa",
   "metadata": {},
   "source": [
    "### Here is a look at when each device was the coolest (top 5)"
   ]
  },
  {
   "cell_type": "code",
   "execution_count": 88,
   "id": "503fee8e",
   "metadata": {
    "scrolled": true
   },
   "outputs": [
    {
     "data": {
      "text/html": [
       "<div>\n",
       "<style scoped>\n",
       "    .dataframe tbody tr th:only-of-type {\n",
       "        vertical-align: middle;\n",
       "    }\n",
       "\n",
       "    .dataframe tbody tr th {\n",
       "        vertical-align: top;\n",
       "    }\n",
       "\n",
       "    .dataframe thead th {\n",
       "        text-align: right;\n",
       "    }\n",
       "</style>\n",
       "<table border=\"1\" class=\"dataframe\">\n",
       "  <thead>\n",
       "    <tr style=\"text-align: right;\">\n",
       "      <th></th>\n",
       "      <th>DateTime</th>\n",
       "      <th>temperature</th>\n",
       "    </tr>\n",
       "    <tr>\n",
       "      <th>device_id</th>\n",
       "      <th></th>\n",
       "      <th></th>\n",
       "    </tr>\n",
       "  </thead>\n",
       "  <tbody>\n",
       "    <tr>\n",
       "      <th>1</th>\n",
       "      <td>2019-04-01 07:00:00+00:00</td>\n",
       "      <td>-0.4</td>\n",
       "    </tr>\n",
       "    <tr>\n",
       "      <th>5</th>\n",
       "      <td>2019-04-01 07:00:00+00:00</td>\n",
       "      <td>5.5</td>\n",
       "    </tr>\n",
       "    <tr>\n",
       "      <th>18</th>\n",
       "      <td>2019-04-01 07:00:00+00:00</td>\n",
       "      <td>-0.4</td>\n",
       "    </tr>\n",
       "    <tr>\n",
       "      <th>40</th>\n",
       "      <td>2019-04-01 07:00:00+00:00</td>\n",
       "      <td>6.3</td>\n",
       "    </tr>\n",
       "    <tr>\n",
       "      <th>48</th>\n",
       "      <td>2019-04-01 07:00:00+00:00</td>\n",
       "      <td>-0.3</td>\n",
       "    </tr>\n",
       "  </tbody>\n",
       "</table>\n",
       "</div>"
      ],
      "text/plain": [
       "                           DateTime  temperature\n",
       "device_id                                       \n",
       "1         2019-04-01 07:00:00+00:00         -0.4\n",
       "5         2019-04-01 07:00:00+00:00          5.5\n",
       "18        2019-04-01 07:00:00+00:00         -0.4\n",
       "40        2019-04-01 07:00:00+00:00          6.3\n",
       "48        2019-04-01 07:00:00+00:00         -0.3"
      ]
     },
     "execution_count": 88,
     "metadata": {},
     "output_type": "execute_result"
    }
   ],
   "source": [
    "min_temp_final.head(5)"
   ]
  },
  {
   "cell_type": "markdown",
   "id": "f1587623",
   "metadata": {},
   "source": [
    "### Based on this most devices are the coolest at around 7 in the morning. "
   ]
  },
  {
   "cell_type": "code",
   "execution_count": 89,
   "id": "1d4f183e",
   "metadata": {},
   "outputs": [],
   "source": [
    "#Getting the max for each device\n",
    "max_temp_final_version = grouped.max()\n",
    "max_temp_final_version.to_csv('max_for_each_device.csv', index=True )"
   ]
  },
  {
   "cell_type": "code",
   "execution_count": 59,
   "id": "e518496f",
   "metadata": {
    "scrolled": true
   },
   "outputs": [
    {
     "data": {
      "text/html": [
       "<div>\n",
       "<style scoped>\n",
       "    .dataframe tbody tr th:only-of-type {\n",
       "        vertical-align: middle;\n",
       "    }\n",
       "\n",
       "    .dataframe tbody tr th {\n",
       "        vertical-align: top;\n",
       "    }\n",
       "\n",
       "    .dataframe thead th {\n",
       "        text-align: right;\n",
       "    }\n",
       "</style>\n",
       "<table border=\"1\" class=\"dataframe\">\n",
       "  <thead>\n",
       "    <tr style=\"text-align: right;\">\n",
       "      <th></th>\n",
       "      <th>DateTime</th>\n",
       "      <th>temperature</th>\n",
       "    </tr>\n",
       "    <tr>\n",
       "      <th>device_id</th>\n",
       "      <th></th>\n",
       "      <th></th>\n",
       "    </tr>\n",
       "  </thead>\n",
       "  <tbody>\n",
       "    <tr>\n",
       "      <th>1</th>\n",
       "      <td>2019-05-01 06:50:00+00:00</td>\n",
       "      <td>23.6</td>\n",
       "    </tr>\n",
       "    <tr>\n",
       "      <th>5</th>\n",
       "      <td>2019-05-01 06:50:00+00:00</td>\n",
       "      <td>35.7</td>\n",
       "    </tr>\n",
       "    <tr>\n",
       "      <th>18</th>\n",
       "      <td>2019-05-01 06:50:00+00:00</td>\n",
       "      <td>24.7</td>\n",
       "    </tr>\n",
       "    <tr>\n",
       "      <th>40</th>\n",
       "      <td>2019-05-01 06:50:00+00:00</td>\n",
       "      <td>35.0</td>\n",
       "    </tr>\n",
       "    <tr>\n",
       "      <th>48</th>\n",
       "      <td>2019-05-01 06:50:00+00:00</td>\n",
       "      <td>23.6</td>\n",
       "    </tr>\n",
       "  </tbody>\n",
       "</table>\n",
       "</div>"
      ],
      "text/plain": [
       "                           DateTime  temperature\n",
       "device_id                                       \n",
       "1         2019-05-01 06:50:00+00:00         23.6\n",
       "5         2019-05-01 06:50:00+00:00         35.7\n",
       "18        2019-05-01 06:50:00+00:00         24.7\n",
       "40        2019-05-01 06:50:00+00:00         35.0\n",
       "48        2019-05-01 06:50:00+00:00         23.6"
      ]
     },
     "execution_count": 59,
     "metadata": {},
     "output_type": "execute_result"
    }
   ],
   "source": [
    "max_temp_final_version.head(5)"
   ]
  },
  {
   "cell_type": "markdown",
   "id": "468efda0",
   "metadata": {},
   "source": [
    "### In the month of May the devices are reporting max temperature at the same time they were reporting minimum time. Either these are faulty / outlier readings which I tried to clean or method of calculation is wrong. \n"
   ]
  },
  {
   "cell_type": "markdown",
   "id": "9c0d7fa7",
   "metadata": {},
   "source": [
    "# "
   ]
  },
  {
   "cell_type": "markdown",
   "id": "fa5ce59f",
   "metadata": {},
   "source": [
    "# Q3 asks the largest temperature swing in the month of April \n"
   ]
  },
  {
   "cell_type": "code",
   "execution_count": 106,
   "id": "c7c4c9a3",
   "metadata": {},
   "outputs": [],
   "source": [
    "april = df_new['DateTime'].map(lambda x: x.month) == 4\n",
    "\n",
    "df_april = df_new[april]\n",
    "\n"
   ]
  },
  {
   "cell_type": "code",
   "execution_count": 107,
   "id": "e7fd3381",
   "metadata": {
    "scrolled": false
   },
   "outputs": [
    {
     "data": {
      "text/html": [
       "<div>\n",
       "<style scoped>\n",
       "    .dataframe tbody tr th:only-of-type {\n",
       "        vertical-align: middle;\n",
       "    }\n",
       "\n",
       "    .dataframe tbody tr th {\n",
       "        vertical-align: top;\n",
       "    }\n",
       "\n",
       "    .dataframe thead th {\n",
       "        text-align: right;\n",
       "    }\n",
       "</style>\n",
       "<table border=\"1\" class=\"dataframe\">\n",
       "  <thead>\n",
       "    <tr style=\"text-align: right;\">\n",
       "      <th></th>\n",
       "      <th>device_id</th>\n",
       "      <th>temperature</th>\n",
       "      <th>DateTime</th>\n",
       "      <th>lat</th>\n",
       "      <th>long</th>\n",
       "    </tr>\n",
       "    <tr>\n",
       "      <th>id</th>\n",
       "      <th></th>\n",
       "      <th></th>\n",
       "      <th></th>\n",
       "      <th></th>\n",
       "      <th></th>\n",
       "    </tr>\n",
       "  </thead>\n",
       "  <tbody>\n",
       "    <tr>\n",
       "      <th>0</th>\n",
       "      <td>840</td>\n",
       "      <td>12.1422</td>\n",
       "      <td>2019-04-01 07:00:00+00:00</td>\n",
       "      <td>37.184016</td>\n",
       "      <td>-119.381546</td>\n",
       "    </tr>\n",
       "    <tr>\n",
       "      <th>1</th>\n",
       "      <td>840</td>\n",
       "      <td>11.9269</td>\n",
       "      <td>2019-04-01 07:10:00+00:00</td>\n",
       "      <td>37.184016</td>\n",
       "      <td>-119.381546</td>\n",
       "    </tr>\n",
       "    <tr>\n",
       "      <th>2</th>\n",
       "      <td>840</td>\n",
       "      <td>11.4825</td>\n",
       "      <td>2019-04-01 07:20:00+00:00</td>\n",
       "      <td>37.184016</td>\n",
       "      <td>-119.381546</td>\n",
       "    </tr>\n",
       "    <tr>\n",
       "      <th>3</th>\n",
       "      <td>840</td>\n",
       "      <td>11.6977</td>\n",
       "      <td>2019-04-01 07:30:00+00:00</td>\n",
       "      <td>37.184016</td>\n",
       "      <td>-119.381546</td>\n",
       "    </tr>\n",
       "    <tr>\n",
       "      <th>4</th>\n",
       "      <td>840</td>\n",
       "      <td>11.9755</td>\n",
       "      <td>2019-04-01 07:40:00+00:00</td>\n",
       "      <td>37.184016</td>\n",
       "      <td>-119.381546</td>\n",
       "    </tr>\n",
       "  </tbody>\n",
       "</table>\n",
       "</div>"
      ],
      "text/plain": [
       "    device_id  temperature                  DateTime        lat        long\n",
       "id                                                                         \n",
       "0         840      12.1422 2019-04-01 07:00:00+00:00  37.184016 -119.381546\n",
       "1         840      11.9269 2019-04-01 07:10:00+00:00  37.184016 -119.381546\n",
       "2         840      11.4825 2019-04-01 07:20:00+00:00  37.184016 -119.381546\n",
       "3         840      11.6977 2019-04-01 07:30:00+00:00  37.184016 -119.381546\n",
       "4         840      11.9755 2019-04-01 07:40:00+00:00  37.184016 -119.381546"
      ]
     },
     "execution_count": 107,
     "metadata": {},
     "output_type": "execute_result"
    }
   ],
   "source": [
    "df_april.head()"
   ]
  },
  {
   "cell_type": "code",
   "execution_count": 108,
   "id": "1dd7064c",
   "metadata": {
    "collapsed": true
   },
   "outputs": [
    {
     "name": "stderr",
     "output_type": "stream",
     "text": [
      "C:\\Users\\rayar\\AppData\\Local\\Temp/ipykernel_32060/1781715875.py:1: SettingWithCopyWarning: \n",
      "A value is trying to be set on a copy of a slice from a DataFrame.\n",
      "Try using .loc[row_indexer,col_indexer] = value instead\n",
      "\n",
      "See the caveats in the documentation: https://pandas.pydata.org/pandas-docs/stable/user_guide/indexing.html#returning-a-view-versus-a-copy\n",
      "  df_april['date'] = pd.to_datetime(df['DateTime']).dt.date\n"
     ]
    }
   ],
   "source": [
    "df_april['date'] = pd.to_datetime(df['DateTime']).dt.date"
   ]
  },
  {
   "cell_type": "code",
   "execution_count": 109,
   "id": "60425b60",
   "metadata": {
    "scrolled": true
   },
   "outputs": [
    {
     "data": {
      "text/html": [
       "<div>\n",
       "<style scoped>\n",
       "    .dataframe tbody tr th:only-of-type {\n",
       "        vertical-align: middle;\n",
       "    }\n",
       "\n",
       "    .dataframe tbody tr th {\n",
       "        vertical-align: top;\n",
       "    }\n",
       "\n",
       "    .dataframe thead th {\n",
       "        text-align: right;\n",
       "    }\n",
       "</style>\n",
       "<table border=\"1\" class=\"dataframe\">\n",
       "  <thead>\n",
       "    <tr style=\"text-align: right;\">\n",
       "      <th></th>\n",
       "      <th>device_id</th>\n",
       "      <th>temperature</th>\n",
       "      <th>DateTime</th>\n",
       "      <th>lat</th>\n",
       "      <th>long</th>\n",
       "      <th>date</th>\n",
       "    </tr>\n",
       "    <tr>\n",
       "      <th>id</th>\n",
       "      <th></th>\n",
       "      <th></th>\n",
       "      <th></th>\n",
       "      <th></th>\n",
       "      <th></th>\n",
       "      <th></th>\n",
       "    </tr>\n",
       "  </thead>\n",
       "  <tbody>\n",
       "    <tr>\n",
       "      <th>0</th>\n",
       "      <td>840</td>\n",
       "      <td>12.1422</td>\n",
       "      <td>2019-04-01 07:00:00+00:00</td>\n",
       "      <td>37.184016</td>\n",
       "      <td>-119.381546</td>\n",
       "      <td>2019-04-01</td>\n",
       "    </tr>\n",
       "    <tr>\n",
       "      <th>1</th>\n",
       "      <td>840</td>\n",
       "      <td>11.9269</td>\n",
       "      <td>2019-04-01 07:10:00+00:00</td>\n",
       "      <td>37.184016</td>\n",
       "      <td>-119.381546</td>\n",
       "      <td>2019-04-01</td>\n",
       "    </tr>\n",
       "    <tr>\n",
       "      <th>2</th>\n",
       "      <td>840</td>\n",
       "      <td>11.4825</td>\n",
       "      <td>2019-04-01 07:20:00+00:00</td>\n",
       "      <td>37.184016</td>\n",
       "      <td>-119.381546</td>\n",
       "      <td>2019-04-01</td>\n",
       "    </tr>\n",
       "    <tr>\n",
       "      <th>3</th>\n",
       "      <td>840</td>\n",
       "      <td>11.6977</td>\n",
       "      <td>2019-04-01 07:30:00+00:00</td>\n",
       "      <td>37.184016</td>\n",
       "      <td>-119.381546</td>\n",
       "      <td>2019-04-01</td>\n",
       "    </tr>\n",
       "    <tr>\n",
       "      <th>4</th>\n",
       "      <td>840</td>\n",
       "      <td>11.9755</td>\n",
       "      <td>2019-04-01 07:40:00+00:00</td>\n",
       "      <td>37.184016</td>\n",
       "      <td>-119.381546</td>\n",
       "      <td>2019-04-01</td>\n",
       "    </tr>\n",
       "  </tbody>\n",
       "</table>\n",
       "</div>"
      ],
      "text/plain": [
       "    device_id  temperature                  DateTime        lat        long  \\\n",
       "id                                                                            \n",
       "0         840      12.1422 2019-04-01 07:00:00+00:00  37.184016 -119.381546   \n",
       "1         840      11.9269 2019-04-01 07:10:00+00:00  37.184016 -119.381546   \n",
       "2         840      11.4825 2019-04-01 07:20:00+00:00  37.184016 -119.381546   \n",
       "3         840      11.6977 2019-04-01 07:30:00+00:00  37.184016 -119.381546   \n",
       "4         840      11.9755 2019-04-01 07:40:00+00:00  37.184016 -119.381546   \n",
       "\n",
       "          date  \n",
       "id              \n",
       "0   2019-04-01  \n",
       "1   2019-04-01  \n",
       "2   2019-04-01  \n",
       "3   2019-04-01  \n",
       "4   2019-04-01  "
      ]
     },
     "execution_count": 109,
     "metadata": {},
     "output_type": "execute_result"
    }
   ],
   "source": [
    "df_april.head()"
   ]
  },
  {
   "cell_type": "code",
   "execution_count": 110,
   "id": "09e2579f",
   "metadata": {
    "collapsed": true
   },
   "outputs": [
    {
     "name": "stderr",
     "output_type": "stream",
     "text": [
      "C:\\Users\\rayar\\anaconda3\\envs\\NewTry\\lib\\site-packages\\pandas\\core\\frame.py:4901: SettingWithCopyWarning: \n",
      "A value is trying to be set on a copy of a slice from a DataFrame\n",
      "\n",
      "See the caveats in the documentation: https://pandas.pydata.org/pandas-docs/stable/user_guide/indexing.html#returning-a-view-versus-a-copy\n",
      "  return super().drop(\n"
     ]
    }
   ],
   "source": [
    "df_april.drop('DateTime', axis=1, inplace=True)"
   ]
  },
  {
   "cell_type": "code",
   "execution_count": 111,
   "id": "ad2fc249",
   "metadata": {},
   "outputs": [],
   "source": [
    "df_devbice_date_grouped = df_april.groupby(['device_id','date','lat','long'])"
   ]
  },
  {
   "cell_type": "code",
   "execution_count": 112,
   "id": "edc6a38d",
   "metadata": {
    "scrolled": true
   },
   "outputs": [
    {
     "data": {
      "text/html": [
       "<div>\n",
       "<style scoped>\n",
       "    .dataframe tbody tr th:only-of-type {\n",
       "        vertical-align: middle;\n",
       "    }\n",
       "\n",
       "    .dataframe tbody tr th {\n",
       "        vertical-align: top;\n",
       "    }\n",
       "\n",
       "    .dataframe thead th {\n",
       "        text-align: right;\n",
       "    }\n",
       "</style>\n",
       "<table border=\"1\" class=\"dataframe\">\n",
       "  <thead>\n",
       "    <tr style=\"text-align: right;\">\n",
       "      <th></th>\n",
       "      <th></th>\n",
       "      <th></th>\n",
       "      <th></th>\n",
       "      <th>temperature</th>\n",
       "    </tr>\n",
       "    <tr>\n",
       "      <th>device_id</th>\n",
       "      <th>date</th>\n",
       "      <th>lat</th>\n",
       "      <th>long</th>\n",
       "      <th></th>\n",
       "    </tr>\n",
       "  </thead>\n",
       "  <tbody>\n",
       "    <tr>\n",
       "      <th rowspan=\"5\" valign=\"top\">1</th>\n",
       "      <th>2019-04-01</th>\n",
       "      <th>47.828493</th>\n",
       "      <th>-119.006786</th>\n",
       "      <td>19.4</td>\n",
       "    </tr>\n",
       "    <tr>\n",
       "      <th>2019-04-02</th>\n",
       "      <th>47.828493</th>\n",
       "      <th>-119.006786</th>\n",
       "      <td>19.5</td>\n",
       "    </tr>\n",
       "    <tr>\n",
       "      <th>2019-04-03</th>\n",
       "      <th>47.828493</th>\n",
       "      <th>-119.006786</th>\n",
       "      <td>18.3</td>\n",
       "    </tr>\n",
       "    <tr>\n",
       "      <th>2019-04-04</th>\n",
       "      <th>47.828493</th>\n",
       "      <th>-119.006786</th>\n",
       "      <td>16.8</td>\n",
       "    </tr>\n",
       "    <tr>\n",
       "      <th>2019-04-05</th>\n",
       "      <th>47.828493</th>\n",
       "      <th>-119.006786</th>\n",
       "      <td>16.2</td>\n",
       "    </tr>\n",
       "    <tr>\n",
       "      <th>...</th>\n",
       "      <th>...</th>\n",
       "      <th>...</th>\n",
       "      <th>...</th>\n",
       "      <td>...</td>\n",
       "    </tr>\n",
       "    <tr>\n",
       "      <th rowspan=\"5\" valign=\"top\">4347</th>\n",
       "      <th>2019-04-26</th>\n",
       "      <th>47.817673</th>\n",
       "      <th>-118.920737</th>\n",
       "      <td>20.8</td>\n",
       "    </tr>\n",
       "    <tr>\n",
       "      <th>2019-04-27</th>\n",
       "      <th>47.817673</th>\n",
       "      <th>-118.920737</th>\n",
       "      <td>19.7</td>\n",
       "    </tr>\n",
       "    <tr>\n",
       "      <th>2019-04-28</th>\n",
       "      <th>47.817673</th>\n",
       "      <th>-118.920737</th>\n",
       "      <td>14.1</td>\n",
       "    </tr>\n",
       "    <tr>\n",
       "      <th>2019-04-29</th>\n",
       "      <th>47.817673</th>\n",
       "      <th>-118.920737</th>\n",
       "      <td>15.9</td>\n",
       "    </tr>\n",
       "    <tr>\n",
       "      <th>2019-04-30</th>\n",
       "      <th>47.817673</th>\n",
       "      <th>-118.920737</th>\n",
       "      <td>17.5</td>\n",
       "    </tr>\n",
       "  </tbody>\n",
       "</table>\n",
       "<p>5485 rows × 1 columns</p>\n",
       "</div>"
      ],
      "text/plain": [
       "                                            temperature\n",
       "device_id date       lat       long                    \n",
       "1         2019-04-01 47.828493 -119.006786         19.4\n",
       "          2019-04-02 47.828493 -119.006786         19.5\n",
       "          2019-04-03 47.828493 -119.006786         18.3\n",
       "          2019-04-04 47.828493 -119.006786         16.8\n",
       "          2019-04-05 47.828493 -119.006786         16.2\n",
       "...                                                 ...\n",
       "4347      2019-04-26 47.817673 -118.920737         20.8\n",
       "          2019-04-27 47.817673 -118.920737         19.7\n",
       "          2019-04-28 47.817673 -118.920737         14.1\n",
       "          2019-04-29 47.817673 -118.920737         15.9\n",
       "          2019-04-30 47.817673 -118.920737         17.5\n",
       "\n",
       "[5485 rows x 1 columns]"
      ]
     },
     "execution_count": 112,
     "metadata": {},
     "output_type": "execute_result"
    }
   ],
   "source": [
    "df_devbice_date_grouped.max()"
   ]
  },
  {
   "cell_type": "code",
   "execution_count": 113,
   "id": "e63f4daa",
   "metadata": {},
   "outputs": [],
   "source": [
    "trialdf = df_devbice_date_grouped['temperature'].max() - df_devbice_date_grouped['temperature'].min()"
   ]
  },
  {
   "cell_type": "code",
   "execution_count": 114,
   "id": "bc0e8892",
   "metadata": {},
   "outputs": [],
   "source": [
    "trialdf1 = trialdf.to_frame()"
   ]
  },
  {
   "cell_type": "code",
   "execution_count": 115,
   "id": "2cfe7daf",
   "metadata": {
    "scrolled": true
   },
   "outputs": [
    {
     "data": {
      "text/html": [
       "<div>\n",
       "<style scoped>\n",
       "    .dataframe tbody tr th:only-of-type {\n",
       "        vertical-align: middle;\n",
       "    }\n",
       "\n",
       "    .dataframe tbody tr th {\n",
       "        vertical-align: top;\n",
       "    }\n",
       "\n",
       "    .dataframe thead th {\n",
       "        text-align: right;\n",
       "    }\n",
       "</style>\n",
       "<table border=\"1\" class=\"dataframe\">\n",
       "  <thead>\n",
       "    <tr style=\"text-align: right;\">\n",
       "      <th></th>\n",
       "      <th></th>\n",
       "      <th></th>\n",
       "      <th></th>\n",
       "      <th>temperature</th>\n",
       "    </tr>\n",
       "    <tr>\n",
       "      <th>device_id</th>\n",
       "      <th>date</th>\n",
       "      <th>lat</th>\n",
       "      <th>long</th>\n",
       "      <th></th>\n",
       "    </tr>\n",
       "  </thead>\n",
       "  <tbody>\n",
       "    <tr>\n",
       "      <th rowspan=\"5\" valign=\"top\">1</th>\n",
       "      <th>2019-04-01</th>\n",
       "      <th>47.828493</th>\n",
       "      <th>-119.006786</th>\n",
       "      <td>14.4</td>\n",
       "    </tr>\n",
       "    <tr>\n",
       "      <th>2019-04-02</th>\n",
       "      <th>47.828493</th>\n",
       "      <th>-119.006786</th>\n",
       "      <td>14.3</td>\n",
       "    </tr>\n",
       "    <tr>\n",
       "      <th>2019-04-03</th>\n",
       "      <th>47.828493</th>\n",
       "      <th>-119.006786</th>\n",
       "      <td>10.6</td>\n",
       "    </tr>\n",
       "    <tr>\n",
       "      <th>2019-04-04</th>\n",
       "      <th>47.828493</th>\n",
       "      <th>-119.006786</th>\n",
       "      <td>11.1</td>\n",
       "    </tr>\n",
       "    <tr>\n",
       "      <th>2019-04-05</th>\n",
       "      <th>47.828493</th>\n",
       "      <th>-119.006786</th>\n",
       "      <td>9.0</td>\n",
       "    </tr>\n",
       "  </tbody>\n",
       "</table>\n",
       "</div>"
      ],
      "text/plain": [
       "                                            temperature\n",
       "device_id date       lat       long                    \n",
       "1         2019-04-01 47.828493 -119.006786         14.4\n",
       "          2019-04-02 47.828493 -119.006786         14.3\n",
       "          2019-04-03 47.828493 -119.006786         10.6\n",
       "          2019-04-04 47.828493 -119.006786         11.1\n",
       "          2019-04-05 47.828493 -119.006786          9.0"
      ]
     },
     "execution_count": 115,
     "metadata": {},
     "output_type": "execute_result"
    }
   ],
   "source": [
    "trialdf1.head()"
   ]
  },
  {
   "cell_type": "code",
   "execution_count": 116,
   "id": "c4cb9d3c",
   "metadata": {},
   "outputs": [],
   "source": [
    "newgroup = trialdf1.groupby(['device_id','date','lat','long'])\n"
   ]
  },
  {
   "cell_type": "code",
   "execution_count": 117,
   "id": "9787d22b",
   "metadata": {},
   "outputs": [],
   "source": [
    "maxswing = newgroup.max()"
   ]
  },
  {
   "cell_type": "code",
   "execution_count": 118,
   "id": "23ed3b0c",
   "metadata": {},
   "outputs": [],
   "source": [
    "maxswing = maxswing.dropna()"
   ]
  },
  {
   "cell_type": "code",
   "execution_count": 119,
   "id": "266bb014",
   "metadata": {
    "scrolled": false
   },
   "outputs": [
    {
     "data": {
      "text/html": [
       "<div>\n",
       "<style scoped>\n",
       "    .dataframe tbody tr th:only-of-type {\n",
       "        vertical-align: middle;\n",
       "    }\n",
       "\n",
       "    .dataframe tbody tr th {\n",
       "        vertical-align: top;\n",
       "    }\n",
       "\n",
       "    .dataframe thead th {\n",
       "        text-align: right;\n",
       "    }\n",
       "</style>\n",
       "<table border=\"1\" class=\"dataframe\">\n",
       "  <thead>\n",
       "    <tr style=\"text-align: right;\">\n",
       "      <th></th>\n",
       "      <th></th>\n",
       "      <th></th>\n",
       "      <th></th>\n",
       "      <th>temperature</th>\n",
       "    </tr>\n",
       "    <tr>\n",
       "      <th>device_id</th>\n",
       "      <th>date</th>\n",
       "      <th>lat</th>\n",
       "      <th>long</th>\n",
       "      <th></th>\n",
       "    </tr>\n",
       "  </thead>\n",
       "  <tbody>\n",
       "    <tr>\n",
       "      <th>872</th>\n",
       "      <th>2019-04-28</th>\n",
       "      <th>37.181293</th>\n",
       "      <th>-119.377709</th>\n",
       "      <td>29.6</td>\n",
       "    </tr>\n",
       "    <tr>\n",
       "      <th rowspan=\"2\" valign=\"top\">902</th>\n",
       "      <th>2019-04-28</th>\n",
       "      <th>37.180612</th>\n",
       "      <th>-119.375906</th>\n",
       "      <td>29.4</td>\n",
       "    </tr>\n",
       "    <tr>\n",
       "      <th>2019-04-23</th>\n",
       "      <th>37.180612</th>\n",
       "      <th>-119.375906</th>\n",
       "      <td>29.0</td>\n",
       "    </tr>\n",
       "    <tr>\n",
       "      <th>263</th>\n",
       "      <th>2019-04-23</th>\n",
       "      <th>37.827432</th>\n",
       "      <th>-119.621400</th>\n",
       "      <td>28.9</td>\n",
       "    </tr>\n",
       "    <tr>\n",
       "      <th>419</th>\n",
       "      <th>2019-04-14</th>\n",
       "      <th>37.176841</th>\n",
       "      <th>-119.408853</th>\n",
       "      <td>28.6</td>\n",
       "    </tr>\n",
       "    <tr>\n",
       "      <th>...</th>\n",
       "      <th>...</th>\n",
       "      <th>...</th>\n",
       "      <th>...</th>\n",
       "      <td>...</td>\n",
       "    </tr>\n",
       "    <tr>\n",
       "      <th rowspan=\"2\" valign=\"top\">418</th>\n",
       "      <th>2019-04-29</th>\n",
       "      <th>37.173730</th>\n",
       "      <th>-119.414723</th>\n",
       "      <td>0.0</td>\n",
       "    </tr>\n",
       "    <tr>\n",
       "      <th>2019-04-30</th>\n",
       "      <th>37.173730</th>\n",
       "      <th>-119.414723</th>\n",
       "      <td>0.0</td>\n",
       "    </tr>\n",
       "    <tr>\n",
       "      <th rowspan=\"3\" valign=\"top\">1273</th>\n",
       "      <th>2019-04-25</th>\n",
       "      <th>37.809983</th>\n",
       "      <th>-119.606342</th>\n",
       "      <td>0.0</td>\n",
       "    </tr>\n",
       "    <tr>\n",
       "      <th>2019-04-26</th>\n",
       "      <th>37.809983</th>\n",
       "      <th>-119.606342</th>\n",
       "      <td>0.0</td>\n",
       "    </tr>\n",
       "    <tr>\n",
       "      <th>2019-04-18</th>\n",
       "      <th>37.809983</th>\n",
       "      <th>-119.606342</th>\n",
       "      <td>0.0</td>\n",
       "    </tr>\n",
       "  </tbody>\n",
       "</table>\n",
       "<p>5485 rows × 1 columns</p>\n",
       "</div>"
      ],
      "text/plain": [
       "                                            temperature\n",
       "device_id date       lat       long                    \n",
       "872       2019-04-28 37.181293 -119.377709         29.6\n",
       "902       2019-04-28 37.180612 -119.375906         29.4\n",
       "          2019-04-23 37.180612 -119.375906         29.0\n",
       "263       2019-04-23 37.827432 -119.621400         28.9\n",
       "419       2019-04-14 37.176841 -119.408853         28.6\n",
       "...                                                 ...\n",
       "418       2019-04-29 37.173730 -119.414723          0.0\n",
       "          2019-04-30 37.173730 -119.414723          0.0\n",
       "1273      2019-04-25 37.809983 -119.606342          0.0\n",
       "          2019-04-26 37.809983 -119.606342          0.0\n",
       "          2019-04-18 37.809983 -119.606342          0.0\n",
       "\n",
       "[5485 rows x 1 columns]"
      ]
     },
     "execution_count": 119,
     "metadata": {},
     "output_type": "execute_result"
    }
   ],
   "source": [
    "maxswing.sort_values('temperature',ascending=False)"
   ]
  },
  {
   "cell_type": "markdown",
   "id": "9600b67d",
   "metadata": {},
   "source": [
    "### As seen above the maximum swing was seen on device 920 on the first of April at the latitude and longitude of 47.8190786, -118.9795833 for a temperature swing of 906.4 degrees. \n",
    "### The next few devices are also shown"
   ]
  },
  {
   "cell_type": "markdown",
   "id": "8d83f7cc",
   "metadata": {},
   "source": [
    "# "
   ]
  },
  {
   "cell_type": "markdown",
   "id": "dd8f0ddb",
   "metadata": {},
   "source": [
    "# Q4. To find the different number of orchards"
   ]
  },
  {
   "cell_type": "markdown",
   "id": "108ced7b",
   "metadata": {},
   "source": [
    "### Since an orchard might have multiple devices, I thought the best way to find the different number of orchards would be to plot where they are. I downloaded the United States shape file and obtained the West US to plot the coordinates. "
   ]
  },
  {
   "cell_type": "code",
   "execution_count": 127,
   "id": "96d6ca3f",
   "metadata": {},
   "outputs": [],
   "source": [
    "import geopandas as gpd\n",
    "from geopandas import GeoDataFrame\n",
    "import matplotlib.pyplot as plt\n",
    "from shapely.geometry import Point\n"
   ]
  },
  {
   "cell_type": "code",
   "execution_count": 121,
   "id": "76d9ca16",
   "metadata": {},
   "outputs": [],
   "source": [
    "usa = gpd.read_file('states.shp')"
   ]
  },
  {
   "cell_type": "code",
   "execution_count": 122,
   "id": "99c741a5",
   "metadata": {
    "scrolled": true
   },
   "outputs": [
    {
     "data": {
      "text/plain": [
       "<AxesSubplot:>"
      ]
     },
     "execution_count": 122,
     "metadata": {},
     "output_type": "execute_result"
    },
    {
     "data": {
      "image/png": "[encoded data removed]",
      "text/plain": [
       "<Figure size 432x288 with 1 Axes>"
      ]
     },
     "metadata": {
      "needs_background": "light"
     },
     "output_type": "display_data"
    }
   ],
   "source": [
    "usa.plot()"
   ]
  },
  {
   "cell_type": "code",
   "execution_count": 124,
   "id": "6645b4fd",
   "metadata": {},
   "outputs": [],
   "source": [
    "usa = usa[usa.SUB_REGION == 'Pacific']\n",
    "usa = usa[usa.STATE_ABBR != 'AK']\n",
    "usa = usa[usa.STATE_ABBR != 'HI']"
   ]
  },
  {
   "cell_type": "code",
   "execution_count": 125,
   "id": "b27f46fd",
   "metadata": {},
   "outputs": [
    {
     "data": {
      "text/plain": [
       "<AxesSubplot:>"
      ]
     },
     "execution_count": 125,
     "metadata": {},
     "output_type": "execute_result"
    },
    {
     "data": {
      "image/png": "[encoded data removed]",
      "text/plain": [
       "<Figure size 432x288 with 1 Axes>"
      ]
     },
     "metadata": {
      "needs_background": "light"
     },
     "output_type": "display_data"
    }
   ],
   "source": [
    "usa.plot()"
   ]
  },
  {
   "cell_type": "code",
   "execution_count": 128,
   "id": "26638255",
   "metadata": {
    "scrolled": false
   },
   "outputs": [
    {
     "data": {
      "image/png": "[encoded data removed]",
      "text/plain": [
       "<Figure size 1080x1080 with 1 Axes>"
      ]
     },
     "metadata": {
      "needs_background": "light"
     },
     "output_type": "display_data"
    }
   ],
   "source": [
    "geometry = [Point(xy) for xy in zip(df_new['long'], df_new['lat'])]\n",
    "gdf = GeoDataFrame(df_new, geometry=geometry)   \n",
    "\n",
    "gdf.plot(ax=usa.plot(figsize=(15, 15)), marker='o', color='red', markersize=15);"
   ]
  },
  {
   "cell_type": "markdown",
   "id": "b1abb578",
   "metadata": {},
   "source": [
    "### There seem to be four orchards spread out through the US "
   ]
  }
 ],
 "metadata": {
  "kernelspec": {
   "display_name": "Python 3 (ipykernel)",
   "language": "python",
   "name": "python3"
  },
  "language_info": {
   "codemirror_mode": {
    "name": "ipython",
    "version": 3
   },
   "file_extension": ".py",
   "mimetype": "text/x-python",
   "name": "python",
   "nbconvert_exporter": "python",
   "pygments_lexer": "ipython3",
   "version": "3.8.11"
  }
 },
 "nbformat": 4,
 "nbformat_minor": 5
}
